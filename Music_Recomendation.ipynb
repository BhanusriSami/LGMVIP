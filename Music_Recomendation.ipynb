{
 "cells": [
  {
   "cell_type": "markdown",
   "id": "eb036d58",
   "metadata": {},
   "source": [
    "# LetsGrowMore Virtual Internship\n",
    "\n",
    "## TASK4 -  Music Recomendation system\n",
    "\n",
    "### Author :  Bhanusri Sami"
   ]
  },
  {
   "cell_type": "code",
   "execution_count": 10,
   "id": "48410e83",
   "metadata": {},
   "outputs": [],
   "source": [
    "### Importing all the necessary libraries\n",
    "\n",
    "import numpy as np \n",
    "import pandas as pd \n",
    "\n",
    "import seaborn as sns\n",
    "import matplotlib.pyplot as plt\n",
    "from sklearn.model_selection import train_test_split\n",
    "from sklearn.preprocessing import LabelEncoder\n",
    "from sklearn.ensemble import RandomForestClassifier\n",
    "from sklearn.preprocessing import StandardScaler\n",
    "from sklearn.metrics import accuracy_score, roc_auc_score, confusion_matrix, classification_report,roc_curve\n",
    "import warnings\n",
    "warnings.filterwarnings('ignore')\n"
   ]
  },
  {
   "cell_type": "code",
   "execution_count": 11,
   "id": "bbd4b198",
   "metadata": {},
   "outputs": [],
   "source": [
    "### Reading the necessary files .\n",
    "\n",
    "train_df = pd.read_csv(\"train.csv\")\n",
    "test_df = pd.read_csv(\"test.csv\")\n",
    "songs =pd.read_csv(\"songs.csv\")\n",
    "members = pd.read_csv(\"members.csv\", parse_dates=['registration_init_time','expiration_date'])\n",
    "song_extra = pd.read_csv(\"song_extra_info.csv\")\n"
   ]
  },
  {
   "cell_type": "code",
   "execution_count": 14,
   "id": "d63a3ffa",
   "metadata": {},
   "outputs": [
    {
     "data": {
      "text/plain": [
       "((7377418, 6), (2556790, 6), (2296320, 7), (34403, 7), (2295971, 3))"
      ]
     },
     "execution_count": 14,
     "metadata": {},
     "output_type": "execute_result"
    }
   ],
   "source": [
    "### View the shape of the files \n",
    "\n",
    "train_df.shape,test_df.shape,songs.shape,members.shape,song_extra.shape"
   ]
  },
  {
   "cell_type": "code",
   "execution_count": 15,
   "id": "8f9f8669",
   "metadata": {},
   "outputs": [],
   "source": [
    "### Since Train file is very huge , taking a sample of it \n",
    "\n",
    "train_df = train_df.sample(frac=0.5)"
   ]
  },
  {
   "cell_type": "code",
   "execution_count": 16,
   "id": "27f08f83",
   "metadata": {},
   "outputs": [
    {
     "name": "stdout",
     "output_type": "stream",
     "text": [
      "<class 'pandas.core.frame.DataFrame'>\n",
      "Int64Index: 3688709 entries, 1190087 to 3112689\n",
      "Data columns (total 6 columns):\n",
      " #   Column              Dtype \n",
      "---  ------              ----- \n",
      " 0   msno                object\n",
      " 1   song_id             object\n",
      " 2   source_system_tab   object\n",
      " 3   source_screen_name  object\n",
      " 4   source_type         object\n",
      " 5   target              int64 \n",
      "dtypes: int64(1), object(5)\n",
      "memory usage: 197.0+ MB\n"
     ]
    }
   ],
   "source": [
    "### Viewing the column information of the train dataset\n",
    "\n",
    "train_df.info()"
   ]
  },
  {
   "cell_type": "code",
   "execution_count": 17,
   "id": "f5829679",
   "metadata": {},
   "outputs": [
    {
     "data": {
      "text/html": [
       "<div>\n",
       "<style scoped>\n",
       "    .dataframe tbody tr th:only-of-type {\n",
       "        vertical-align: middle;\n",
       "    }\n",
       "\n",
       "    .dataframe tbody tr th {\n",
       "        vertical-align: top;\n",
       "    }\n",
       "\n",
       "    .dataframe thead th {\n",
       "        text-align: right;\n",
       "    }\n",
       "</style>\n",
       "<table border=\"1\" class=\"dataframe\">\n",
       "  <thead>\n",
       "    <tr style=\"text-align: right;\">\n",
       "      <th></th>\n",
       "      <th>msno</th>\n",
       "      <th>song_id</th>\n",
       "      <th>source_system_tab</th>\n",
       "      <th>source_screen_name</th>\n",
       "      <th>source_type</th>\n",
       "      <th>target</th>\n",
       "    </tr>\n",
       "  </thead>\n",
       "  <tbody>\n",
       "    <tr>\n",
       "      <th>1190087</th>\n",
       "      <td>otx17vbfLuQqYcnlWwJcqrJ18onkBtr+XKCzOd75Bkc=</td>\n",
       "      <td>ycpJxb7zoNx9u5lBzrZg7RtMryI7o0WV56UnQkp19d0=</td>\n",
       "      <td>search</td>\n",
       "      <td>Artist more</td>\n",
       "      <td>top-hits-for-artist</td>\n",
       "      <td>1</td>\n",
       "    </tr>\n",
       "    <tr>\n",
       "      <th>5538708</th>\n",
       "      <td>TTrLQyCfVW1KeyBqEaWeNS01cnC2ZuiezhJe2Hhqytg=</td>\n",
       "      <td>1PR/lVwL4VeYcZjexwBJ2NOSTfgh8JoVxWCunnbJO/8=</td>\n",
       "      <td>listen with</td>\n",
       "      <td>Others profile more</td>\n",
       "      <td>listen-with</td>\n",
       "      <td>1</td>\n",
       "    </tr>\n",
       "    <tr>\n",
       "      <th>1029485</th>\n",
       "      <td>cjbsKu/eOaxG8VJBu+8F3+uDy9Q+DoQpzp4Rav20h5A=</td>\n",
       "      <td>Ot8WIXZXzvgZeZoCwcimfORgLbZJJdslmuvO1ufZB7k=</td>\n",
       "      <td>my library</td>\n",
       "      <td>Local playlist more</td>\n",
       "      <td>local-library</td>\n",
       "      <td>1</td>\n",
       "    </tr>\n",
       "    <tr>\n",
       "      <th>1478671</th>\n",
       "      <td>lf6xoW+L5j9bH8lQTX/lk5mS9XjxJVmP1dL/C32Hn64=</td>\n",
       "      <td>eQ/AeNQrhiCxtHyZkPbjpf2aqT2ae2KNhm8Bt1FNUx8=</td>\n",
       "      <td>my library</td>\n",
       "      <td>Local playlist more</td>\n",
       "      <td>album</td>\n",
       "      <td>1</td>\n",
       "    </tr>\n",
       "    <tr>\n",
       "      <th>634792</th>\n",
       "      <td>h2dEqpST7hvYJ6ZUrqz9aItELR1WgezuR8COodjYmeg=</td>\n",
       "      <td>uzU6ntNZT60j0CqFNXTpF6Oo8W3w5UwU/ANEODidW04=</td>\n",
       "      <td>discover</td>\n",
       "      <td>Online playlist more</td>\n",
       "      <td>online-playlist</td>\n",
       "      <td>0</td>\n",
       "    </tr>\n",
       "  </tbody>\n",
       "</table>\n",
       "</div>"
      ],
      "text/plain": [
       "                                                 msno  \\\n",
       "1190087  otx17vbfLuQqYcnlWwJcqrJ18onkBtr+XKCzOd75Bkc=   \n",
       "5538708  TTrLQyCfVW1KeyBqEaWeNS01cnC2ZuiezhJe2Hhqytg=   \n",
       "1029485  cjbsKu/eOaxG8VJBu+8F3+uDy9Q+DoQpzp4Rav20h5A=   \n",
       "1478671  lf6xoW+L5j9bH8lQTX/lk5mS9XjxJVmP1dL/C32Hn64=   \n",
       "634792   h2dEqpST7hvYJ6ZUrqz9aItELR1WgezuR8COodjYmeg=   \n",
       "\n",
       "                                              song_id source_system_tab  \\\n",
       "1190087  ycpJxb7zoNx9u5lBzrZg7RtMryI7o0WV56UnQkp19d0=            search   \n",
       "5538708  1PR/lVwL4VeYcZjexwBJ2NOSTfgh8JoVxWCunnbJO/8=       listen with   \n",
       "1029485  Ot8WIXZXzvgZeZoCwcimfORgLbZJJdslmuvO1ufZB7k=        my library   \n",
       "1478671  eQ/AeNQrhiCxtHyZkPbjpf2aqT2ae2KNhm8Bt1FNUx8=        my library   \n",
       "634792   uzU6ntNZT60j0CqFNXTpF6Oo8W3w5UwU/ANEODidW04=          discover   \n",
       "\n",
       "           source_screen_name          source_type  target  \n",
       "1190087           Artist more  top-hits-for-artist       1  \n",
       "5538708   Others profile more          listen-with       1  \n",
       "1029485   Local playlist more        local-library       1  \n",
       "1478671   Local playlist more                album       1  \n",
       "634792   Online playlist more      online-playlist       0  "
      ]
     },
     "execution_count": 17,
     "metadata": {},
     "output_type": "execute_result"
    }
   ],
   "source": [
    "### Viewing the train Data .\n",
    "\n",
    "train_df.head()"
   ]
  },
  {
   "cell_type": "code",
   "execution_count": 18,
   "id": "cdf97965",
   "metadata": {
    "scrolled": true
   },
   "outputs": [
    {
     "name": "stdout",
     "output_type": "stream",
     "text": [
      "<class 'pandas.core.frame.DataFrame'>\n",
      "RangeIndex: 2556790 entries, 0 to 2556789\n",
      "Data columns (total 6 columns):\n",
      " #   Column              Dtype \n",
      "---  ------              ----- \n",
      " 0   id                  int64 \n",
      " 1   msno                object\n",
      " 2   song_id             object\n",
      " 3   source_system_tab   object\n",
      " 4   source_screen_name  object\n",
      " 5   source_type         object\n",
      "dtypes: int64(1), object(5)\n",
      "memory usage: 117.0+ MB\n"
     ]
    }
   ],
   "source": [
    "### Viewing the column information of test data\n",
    "\n",
    "test_df.info()"
   ]
  },
  {
   "cell_type": "code",
   "execution_count": 19,
   "id": "199aa05f",
   "metadata": {},
   "outputs": [
    {
     "data": {
      "text/html": [
       "<div>\n",
       "<style scoped>\n",
       "    .dataframe tbody tr th:only-of-type {\n",
       "        vertical-align: middle;\n",
       "    }\n",
       "\n",
       "    .dataframe tbody tr th {\n",
       "        vertical-align: top;\n",
       "    }\n",
       "\n",
       "    .dataframe thead th {\n",
       "        text-align: right;\n",
       "    }\n",
       "</style>\n",
       "<table border=\"1\" class=\"dataframe\">\n",
       "  <thead>\n",
       "    <tr style=\"text-align: right;\">\n",
       "      <th></th>\n",
       "      <th>id</th>\n",
       "      <th>msno</th>\n",
       "      <th>song_id</th>\n",
       "      <th>source_system_tab</th>\n",
       "      <th>source_screen_name</th>\n",
       "      <th>source_type</th>\n",
       "    </tr>\n",
       "  </thead>\n",
       "  <tbody>\n",
       "    <tr>\n",
       "      <th>0</th>\n",
       "      <td>0</td>\n",
       "      <td>V8ruy7SGk7tDm3zA51DPpn6qutt+vmKMBKa21dp54uM=</td>\n",
       "      <td>WmHKgKMlp1lQMecNdNvDMkvIycZYHnFwDT72I5sIssc=</td>\n",
       "      <td>my library</td>\n",
       "      <td>Local playlist more</td>\n",
       "      <td>local-library</td>\n",
       "    </tr>\n",
       "    <tr>\n",
       "      <th>1</th>\n",
       "      <td>1</td>\n",
       "      <td>V8ruy7SGk7tDm3zA51DPpn6qutt+vmKMBKa21dp54uM=</td>\n",
       "      <td>y/rsZ9DC7FwK5F2PK2D5mj+aOBUJAjuu3dZ14NgE0vM=</td>\n",
       "      <td>my library</td>\n",
       "      <td>Local playlist more</td>\n",
       "      <td>local-library</td>\n",
       "    </tr>\n",
       "    <tr>\n",
       "      <th>2</th>\n",
       "      <td>2</td>\n",
       "      <td>/uQAlrAkaczV+nWCd2sPF2ekvXPRipV7q0l+gbLuxjw=</td>\n",
       "      <td>8eZLFOdGVdXBSqoAv5nsLigeH2BvKXzTQYtUM53I0k4=</td>\n",
       "      <td>discover</td>\n",
       "      <td>NaN</td>\n",
       "      <td>song-based-playlist</td>\n",
       "    </tr>\n",
       "    <tr>\n",
       "      <th>3</th>\n",
       "      <td>3</td>\n",
       "      <td>1a6oo/iXKatxQx4eS9zTVD+KlSVaAFbTIqVvwLC1Y0k=</td>\n",
       "      <td>ztCf8thYsS4YN3GcIL/bvoxLm/T5mYBVKOO4C9NiVfQ=</td>\n",
       "      <td>radio</td>\n",
       "      <td>Radio</td>\n",
       "      <td>radio</td>\n",
       "    </tr>\n",
       "    <tr>\n",
       "      <th>4</th>\n",
       "      <td>4</td>\n",
       "      <td>1a6oo/iXKatxQx4eS9zTVD+KlSVaAFbTIqVvwLC1Y0k=</td>\n",
       "      <td>MKVMpslKcQhMaFEgcEQhEfi5+RZhMYlU3eRDpySrH8Y=</td>\n",
       "      <td>radio</td>\n",
       "      <td>Radio</td>\n",
       "      <td>radio</td>\n",
       "    </tr>\n",
       "  </tbody>\n",
       "</table>\n",
       "</div>"
      ],
      "text/plain": [
       "   id                                          msno  \\\n",
       "0   0  V8ruy7SGk7tDm3zA51DPpn6qutt+vmKMBKa21dp54uM=   \n",
       "1   1  V8ruy7SGk7tDm3zA51DPpn6qutt+vmKMBKa21dp54uM=   \n",
       "2   2  /uQAlrAkaczV+nWCd2sPF2ekvXPRipV7q0l+gbLuxjw=   \n",
       "3   3  1a6oo/iXKatxQx4eS9zTVD+KlSVaAFbTIqVvwLC1Y0k=   \n",
       "4   4  1a6oo/iXKatxQx4eS9zTVD+KlSVaAFbTIqVvwLC1Y0k=   \n",
       "\n",
       "                                        song_id source_system_tab  \\\n",
       "0  WmHKgKMlp1lQMecNdNvDMkvIycZYHnFwDT72I5sIssc=        my library   \n",
       "1  y/rsZ9DC7FwK5F2PK2D5mj+aOBUJAjuu3dZ14NgE0vM=        my library   \n",
       "2  8eZLFOdGVdXBSqoAv5nsLigeH2BvKXzTQYtUM53I0k4=          discover   \n",
       "3  ztCf8thYsS4YN3GcIL/bvoxLm/T5mYBVKOO4C9NiVfQ=             radio   \n",
       "4  MKVMpslKcQhMaFEgcEQhEfi5+RZhMYlU3eRDpySrH8Y=             radio   \n",
       "\n",
       "    source_screen_name          source_type  \n",
       "0  Local playlist more        local-library  \n",
       "1  Local playlist more        local-library  \n",
       "2                  NaN  song-based-playlist  \n",
       "3                Radio                radio  \n",
       "4                Radio                radio  "
      ]
     },
     "execution_count": 19,
     "metadata": {},
     "output_type": "execute_result"
    }
   ],
   "source": [
    "### Viewing the  sample of test data\n",
    "\n",
    "test_df.head()"
   ]
  },
  {
   "cell_type": "code",
   "execution_count": 20,
   "id": "4574babf",
   "metadata": {
    "scrolled": true
   },
   "outputs": [
    {
     "data": {
      "text/html": [
       "<div>\n",
       "<style scoped>\n",
       "    .dataframe tbody tr th:only-of-type {\n",
       "        vertical-align: middle;\n",
       "    }\n",
       "\n",
       "    .dataframe tbody tr th {\n",
       "        vertical-align: top;\n",
       "    }\n",
       "\n",
       "    .dataframe thead th {\n",
       "        text-align: right;\n",
       "    }\n",
       "</style>\n",
       "<table border=\"1\" class=\"dataframe\">\n",
       "  <thead>\n",
       "    <tr style=\"text-align: right;\">\n",
       "      <th></th>\n",
       "      <th>song_id</th>\n",
       "      <th>song_length</th>\n",
       "      <th>genre_ids</th>\n",
       "      <th>artist_name</th>\n",
       "      <th>composer</th>\n",
       "      <th>lyricist</th>\n",
       "      <th>language</th>\n",
       "    </tr>\n",
       "  </thead>\n",
       "  <tbody>\n",
       "    <tr>\n",
       "      <th>0</th>\n",
       "      <td>CXoTN1eb7AI+DntdU1vbcwGRV4SCIDxZu+YD8JP8r4E=</td>\n",
       "      <td>247640</td>\n",
       "      <td>465</td>\n",
       "      <td>張信哲 (Jeff Chang)</td>\n",
       "      <td>董貞</td>\n",
       "      <td>何啟弘</td>\n",
       "      <td>3.0</td>\n",
       "    </tr>\n",
       "    <tr>\n",
       "      <th>1</th>\n",
       "      <td>o0kFgae9QtnYgRkVPqLJwa05zIhRlUjfF7O1tDw0ZDU=</td>\n",
       "      <td>197328</td>\n",
       "      <td>444</td>\n",
       "      <td>BLACKPINK</td>\n",
       "      <td>TEDDY|  FUTURE BOUNCE|  Bekuh BOOM</td>\n",
       "      <td>TEDDY</td>\n",
       "      <td>31.0</td>\n",
       "    </tr>\n",
       "    <tr>\n",
       "      <th>2</th>\n",
       "      <td>DwVvVurfpuz+XPuFvucclVQEyPqcpUkHR0ne1RQzPs0=</td>\n",
       "      <td>231781</td>\n",
       "      <td>465</td>\n",
       "      <td>SUPER JUNIOR</td>\n",
       "      <td>NaN</td>\n",
       "      <td>NaN</td>\n",
       "      <td>31.0</td>\n",
       "    </tr>\n",
       "    <tr>\n",
       "      <th>3</th>\n",
       "      <td>dKMBWoZyScdxSkihKG+Vf47nc18N9q4m58+b4e7dSSE=</td>\n",
       "      <td>273554</td>\n",
       "      <td>465</td>\n",
       "      <td>S.H.E</td>\n",
       "      <td>湯小康</td>\n",
       "      <td>徐世珍</td>\n",
       "      <td>3.0</td>\n",
       "    </tr>\n",
       "    <tr>\n",
       "      <th>4</th>\n",
       "      <td>W3bqWd3T+VeHFzHAUfARgW9AvVRaF4N5Yzm4Mr6Eo/o=</td>\n",
       "      <td>140329</td>\n",
       "      <td>726</td>\n",
       "      <td>貴族精選</td>\n",
       "      <td>Traditional</td>\n",
       "      <td>Traditional</td>\n",
       "      <td>52.0</td>\n",
       "    </tr>\n",
       "  </tbody>\n",
       "</table>\n",
       "</div>"
      ],
      "text/plain": [
       "                                        song_id  song_length genre_ids  \\\n",
       "0  CXoTN1eb7AI+DntdU1vbcwGRV4SCIDxZu+YD8JP8r4E=       247640       465   \n",
       "1  o0kFgae9QtnYgRkVPqLJwa05zIhRlUjfF7O1tDw0ZDU=       197328       444   \n",
       "2  DwVvVurfpuz+XPuFvucclVQEyPqcpUkHR0ne1RQzPs0=       231781       465   \n",
       "3  dKMBWoZyScdxSkihKG+Vf47nc18N9q4m58+b4e7dSSE=       273554       465   \n",
       "4  W3bqWd3T+VeHFzHAUfARgW9AvVRaF4N5Yzm4Mr6Eo/o=       140329       726   \n",
       "\n",
       "        artist_name                            composer     lyricist  language  \n",
       "0  張信哲 (Jeff Chang)                                  董貞          何啟弘       3.0  \n",
       "1         BLACKPINK  TEDDY|  FUTURE BOUNCE|  Bekuh BOOM        TEDDY      31.0  \n",
       "2      SUPER JUNIOR                                 NaN          NaN      31.0  \n",
       "3             S.H.E                                 湯小康          徐世珍       3.0  \n",
       "4              貴族精選                         Traditional  Traditional      52.0  "
      ]
     },
     "execution_count": 20,
     "metadata": {},
     "output_type": "execute_result"
    }
   ],
   "source": [
    "### Viewing the song information of Songs Data .\n",
    "\n",
    "songs.head()"
   ]
  },
  {
   "cell_type": "code",
   "execution_count": 21,
   "id": "a074ab1c",
   "metadata": {},
   "outputs": [
    {
     "name": "stdout",
     "output_type": "stream",
     "text": [
      "<class 'pandas.core.frame.DataFrame'>\n",
      "RangeIndex: 2296320 entries, 0 to 2296319\n",
      "Data columns (total 7 columns):\n",
      " #   Column       Dtype  \n",
      "---  ------       -----  \n",
      " 0   song_id      object \n",
      " 1   song_length  int64  \n",
      " 2   genre_ids    object \n",
      " 3   artist_name  object \n",
      " 4   composer     object \n",
      " 5   lyricist     object \n",
      " 6   language     float64\n",
      "dtypes: float64(1), int64(1), object(5)\n",
      "memory usage: 122.6+ MB\n"
     ]
    }
   ],
   "source": [
    "### Viewing the column information of songs dataframe .\n",
    "\n",
    "songs.info()"
   ]
  },
  {
   "cell_type": "code",
   "execution_count": 22,
   "id": "e57bce34",
   "metadata": {},
   "outputs": [
    {
     "name": "stdout",
     "output_type": "stream",
     "text": [
      "<class 'pandas.core.frame.DataFrame'>\n",
      "RangeIndex: 34403 entries, 0 to 34402\n",
      "Data columns (total 7 columns):\n",
      " #   Column                  Non-Null Count  Dtype         \n",
      "---  ------                  --------------  -----         \n",
      " 0   msno                    34403 non-null  object        \n",
      " 1   city                    34403 non-null  int64         \n",
      " 2   bd                      34403 non-null  int64         \n",
      " 3   gender                  14501 non-null  object        \n",
      " 4   registered_via          34403 non-null  int64         \n",
      " 5   registration_init_time  34403 non-null  datetime64[ns]\n",
      " 6   expiration_date         34403 non-null  datetime64[ns]\n",
      "dtypes: datetime64[ns](2), int64(3), object(2)\n",
      "memory usage: 1.8+ MB\n"
     ]
    }
   ],
   "source": [
    "### Viewing the column information of the members dataframe . \n",
    "\n",
    "members.info()"
   ]
  },
  {
   "cell_type": "code",
   "execution_count": 23,
   "id": "1d7eee6d",
   "metadata": {},
   "outputs": [
    {
     "data": {
      "text/html": [
       "<div>\n",
       "<style scoped>\n",
       "    .dataframe tbody tr th:only-of-type {\n",
       "        vertical-align: middle;\n",
       "    }\n",
       "\n",
       "    .dataframe tbody tr th {\n",
       "        vertical-align: top;\n",
       "    }\n",
       "\n",
       "    .dataframe thead th {\n",
       "        text-align: right;\n",
       "    }\n",
       "</style>\n",
       "<table border=\"1\" class=\"dataframe\">\n",
       "  <thead>\n",
       "    <tr style=\"text-align: right;\">\n",
       "      <th></th>\n",
       "      <th>msno</th>\n",
       "      <th>city</th>\n",
       "      <th>bd</th>\n",
       "      <th>gender</th>\n",
       "      <th>registered_via</th>\n",
       "      <th>registration_init_time</th>\n",
       "      <th>expiration_date</th>\n",
       "    </tr>\n",
       "  </thead>\n",
       "  <tbody>\n",
       "    <tr>\n",
       "      <th>0</th>\n",
       "      <td>XQxgAYj3klVKjR3oxPPXYYFp4soD4TuBghkhMTD4oTw=</td>\n",
       "      <td>1</td>\n",
       "      <td>0</td>\n",
       "      <td>NaN</td>\n",
       "      <td>7</td>\n",
       "      <td>2011-08-20</td>\n",
       "      <td>2017-09-20</td>\n",
       "    </tr>\n",
       "    <tr>\n",
       "      <th>1</th>\n",
       "      <td>UizsfmJb9mV54qE9hCYyU07Va97c0lCRLEQX3ae+ztM=</td>\n",
       "      <td>1</td>\n",
       "      <td>0</td>\n",
       "      <td>NaN</td>\n",
       "      <td>7</td>\n",
       "      <td>2015-06-28</td>\n",
       "      <td>2017-06-22</td>\n",
       "    </tr>\n",
       "    <tr>\n",
       "      <th>2</th>\n",
       "      <td>D8nEhsIOBSoE6VthTaqDX8U6lqjJ7dLdr72mOyLya2A=</td>\n",
       "      <td>1</td>\n",
       "      <td>0</td>\n",
       "      <td>NaN</td>\n",
       "      <td>4</td>\n",
       "      <td>2016-04-11</td>\n",
       "      <td>2017-07-12</td>\n",
       "    </tr>\n",
       "    <tr>\n",
       "      <th>3</th>\n",
       "      <td>mCuD+tZ1hERA/o5GPqk38e041J8ZsBaLcu7nGoIIvhI=</td>\n",
       "      <td>1</td>\n",
       "      <td>0</td>\n",
       "      <td>NaN</td>\n",
       "      <td>9</td>\n",
       "      <td>2015-09-06</td>\n",
       "      <td>2015-09-07</td>\n",
       "    </tr>\n",
       "    <tr>\n",
       "      <th>4</th>\n",
       "      <td>q4HRBfVSssAFS9iRfxWrohxuk9kCYMKjHOEagUMV6rQ=</td>\n",
       "      <td>1</td>\n",
       "      <td>0</td>\n",
       "      <td>NaN</td>\n",
       "      <td>4</td>\n",
       "      <td>2017-01-26</td>\n",
       "      <td>2017-06-13</td>\n",
       "    </tr>\n",
       "  </tbody>\n",
       "</table>\n",
       "</div>"
      ],
      "text/plain": [
       "                                           msno  city  bd gender  \\\n",
       "0  XQxgAYj3klVKjR3oxPPXYYFp4soD4TuBghkhMTD4oTw=     1   0    NaN   \n",
       "1  UizsfmJb9mV54qE9hCYyU07Va97c0lCRLEQX3ae+ztM=     1   0    NaN   \n",
       "2  D8nEhsIOBSoE6VthTaqDX8U6lqjJ7dLdr72mOyLya2A=     1   0    NaN   \n",
       "3  mCuD+tZ1hERA/o5GPqk38e041J8ZsBaLcu7nGoIIvhI=     1   0    NaN   \n",
       "4  q4HRBfVSssAFS9iRfxWrohxuk9kCYMKjHOEagUMV6rQ=     1   0    NaN   \n",
       "\n",
       "   registered_via registration_init_time expiration_date  \n",
       "0               7             2011-08-20      2017-09-20  \n",
       "1               7             2015-06-28      2017-06-22  \n",
       "2               4             2016-04-11      2017-07-12  \n",
       "3               9             2015-09-06      2015-09-07  \n",
       "4               4             2017-01-26      2017-06-13  "
      ]
     },
     "execution_count": 23,
     "metadata": {},
     "output_type": "execute_result"
    }
   ],
   "source": [
    "### Viewing the sample data of members dataframe .\n",
    "\n",
    "members.head()"
   ]
  },
  {
   "cell_type": "code",
   "execution_count": 24,
   "id": "b4687db6",
   "metadata": {},
   "outputs": [
    {
     "name": "stdout",
     "output_type": "stream",
     "text": [
      "<class 'pandas.core.frame.DataFrame'>\n",
      "RangeIndex: 2295971 entries, 0 to 2295970\n",
      "Data columns (total 3 columns):\n",
      " #   Column   Dtype \n",
      "---  ------   ----- \n",
      " 0   song_id  object\n",
      " 1   name     object\n",
      " 2   isrc     object\n",
      "dtypes: object(3)\n",
      "memory usage: 52.6+ MB\n"
     ]
    }
   ],
   "source": [
    "### Viewing the column information of songs_extra dataframe .\n",
    "\n",
    "song_extra.info()"
   ]
  },
  {
   "cell_type": "code",
   "execution_count": 25,
   "id": "dce08808",
   "metadata": {},
   "outputs": [
    {
     "data": {
      "text/html": [
       "<div>\n",
       "<style scoped>\n",
       "    .dataframe tbody tr th:only-of-type {\n",
       "        vertical-align: middle;\n",
       "    }\n",
       "\n",
       "    .dataframe tbody tr th {\n",
       "        vertical-align: top;\n",
       "    }\n",
       "\n",
       "    .dataframe thead th {\n",
       "        text-align: right;\n",
       "    }\n",
       "</style>\n",
       "<table border=\"1\" class=\"dataframe\">\n",
       "  <thead>\n",
       "    <tr style=\"text-align: right;\">\n",
       "      <th></th>\n",
       "      <th>song_id</th>\n",
       "      <th>name</th>\n",
       "      <th>isrc</th>\n",
       "    </tr>\n",
       "  </thead>\n",
       "  <tbody>\n",
       "    <tr>\n",
       "      <th>0</th>\n",
       "      <td>LP7pLJoJFBvyuUwvu+oLzjT+bI+UeBPURCecJsX1jjs=</td>\n",
       "      <td>我們</td>\n",
       "      <td>TWUM71200043</td>\n",
       "    </tr>\n",
       "    <tr>\n",
       "      <th>1</th>\n",
       "      <td>ClazTFnk6r0Bnuie44bocdNMM3rdlrq0bCGAsGUWcHE=</td>\n",
       "      <td>Let Me Love You</td>\n",
       "      <td>QMZSY1600015</td>\n",
       "    </tr>\n",
       "    <tr>\n",
       "      <th>2</th>\n",
       "      <td>u2ja/bZE3zhCGxvbbOB3zOoUjx27u40cf5g09UXMoKQ=</td>\n",
       "      <td>原諒我</td>\n",
       "      <td>TWA530887303</td>\n",
       "    </tr>\n",
       "    <tr>\n",
       "      <th>3</th>\n",
       "      <td>92Fqsy0+p6+RHe2EoLKjHahORHR1Kq1TBJoClW9v+Ts=</td>\n",
       "      <td>Classic</td>\n",
       "      <td>USSM11301446</td>\n",
       "    </tr>\n",
       "    <tr>\n",
       "      <th>4</th>\n",
       "      <td>0QFmz/+rJy1Q56C1DuYqT9hKKqi5TUqx0sN0IwvoHrw=</td>\n",
       "      <td>愛投羅網</td>\n",
       "      <td>TWA471306001</td>\n",
       "    </tr>\n",
       "  </tbody>\n",
       "</table>\n",
       "</div>"
      ],
      "text/plain": [
       "                                        song_id             name          isrc\n",
       "0  LP7pLJoJFBvyuUwvu+oLzjT+bI+UeBPURCecJsX1jjs=               我們  TWUM71200043\n",
       "1  ClazTFnk6r0Bnuie44bocdNMM3rdlrq0bCGAsGUWcHE=  Let Me Love You  QMZSY1600015\n",
       "2  u2ja/bZE3zhCGxvbbOB3zOoUjx27u40cf5g09UXMoKQ=              原諒我  TWA530887303\n",
       "3  92Fqsy0+p6+RHe2EoLKjHahORHR1Kq1TBJoClW9v+Ts=          Classic  USSM11301446\n",
       "4  0QFmz/+rJy1Q56C1DuYqT9hKKqi5TUqx0sN0IwvoHrw=             愛投羅網  TWA471306001"
      ]
     },
     "execution_count": 25,
     "metadata": {},
     "output_type": "execute_result"
    }
   ],
   "source": [
    "### Viewing the data of the songs_extra dataframe \n",
    "\n",
    "song_extra.head()"
   ]
  },
  {
   "cell_type": "code",
   "execution_count": 26,
   "id": "b045cc61",
   "metadata": {},
   "outputs": [],
   "source": [
    "### Merging the train_df  with other dataframes\n",
    "\n",
    "train_df = train_df.merge(songs,how='left',on='song_id')\n",
    "train_df = train_df.merge(members,how='left',on='msno')\n",
    "train_df = train_df.merge(song_extra, on='song_id', how='left')"
   ]
  },
  {
   "cell_type": "code",
   "execution_count": 27,
   "id": "f8419afe",
   "metadata": {},
   "outputs": [],
   "source": [
    "#### Merging the test_df with other information \n",
    "\n",
    "test_df = test_df.merge(songs,how='left',on='song_id')\n",
    "test_df = test_df.merge(members,how='left',on='msno')\n",
    "test_df = test_df.merge(song_extra, on='song_id', how='left')"
   ]
  },
  {
   "cell_type": "code",
   "execution_count": 28,
   "id": "a90f153e",
   "metadata": {},
   "outputs": [
    {
     "data": {
      "text/plain": [
       "((3688709, 20), (2556790, 20))"
      ]
     },
     "execution_count": 28,
     "metadata": {},
     "output_type": "execute_result"
    }
   ],
   "source": [
    "#### Viewing the shape of train and test after merge .\n",
    "\n",
    "\n",
    "train_df.shape,test_df.shape"
   ]
  },
  {
   "cell_type": "code",
   "execution_count": 29,
   "id": "f4267cd2",
   "metadata": {},
   "outputs": [],
   "source": [
    "### deleting the unnessary dataframes .\n",
    "\n",
    "del songs,members,song_extra"
   ]
  },
  {
   "cell_type": "code",
   "execution_count": 30,
   "id": "d37eb2c8",
   "metadata": {},
   "outputs": [],
   "source": [
    "# Splitting the date field into year,month and day  from train dataframe  .\n",
    "\n",
    "train_df['registration_year'] = train_df['registration_init_time'].apply(lambda x:int(str(x)[0:4]))\n",
    "train_df['registration_month'] = train_df['registration_init_time'].apply(lambda x:int(str(x)[5:7]))\n",
    "train_df['registration_day'] = train_df['registration_init_time'].apply(lambda x:int(str(x)[8:10]))\n",
    "\n",
    "\n",
    "train_df['expiration_year'] = train_df['expiration_date'].apply(lambda x:int(str(x)[0:4]))\n",
    "train_df['expiration_month'] = train_df['expiration_date'].apply(lambda x:int(str(x)[5:7]))\n",
    "train_df['expiration_day'] = train_df['expiration_date'].apply(lambda x:int(str(x)[8:10]))"
   ]
  },
  {
   "cell_type": "code",
   "execution_count": 31,
   "id": "8b883a2b",
   "metadata": {},
   "outputs": [],
   "source": [
    "# Splitting the date field into year,month and day from test dataframe . \n",
    "\n",
    "test_df['registration_year'] = test_df['registration_init_time'].apply(lambda x:int(str(x)[0:4]))\n",
    "test_df['registration_month'] = test_df['registration_init_time'].apply(lambda x:int(str(x)[5:7]))\n",
    "test_df['registration_day'] = test_df['registration_init_time'].apply(lambda x:int(str(x)[8:10]))\n",
    "\n",
    "test_df['expiration_year'] = test_df['expiration_date'].apply(lambda x:int(str(x)[0:4]))\n",
    "test_df['expiration_month'] = test_df['expiration_date'].apply(lambda x:int(str(x)[5:7]))\n",
    "test_df['expiration_day'] = test_df['expiration_date'].apply(lambda x:int(str(x)[8:10]))"
   ]
  },
  {
   "cell_type": "code",
   "execution_count": 32,
   "id": "d1435023",
   "metadata": {},
   "outputs": [],
   "source": [
    "### Defining a function and extracting year from isrc from both train and test .\n",
    "\n",
    "\n",
    "def isrc_to_year(isrc):\n",
    "    if type(isrc)==str:\n",
    "        if int(isrc[5:7])>17:\n",
    "            return 1900+int(isrc[5:7])\n",
    "        else:\n",
    "            return 2000+int(isrc[5:7])\n",
    "    else:\n",
    "        return np.nan\n",
    "    \n",
    "train_df['song_year']=train_df['isrc'].apply(isrc_to_year)\n",
    "test_df['song_year']=test_df['isrc'].apply(isrc_to_year)"
   ]
  },
  {
   "cell_type": "code",
   "execution_count": 33,
   "id": "7a016447",
   "metadata": {},
   "outputs": [],
   "source": [
    "### Deleting unecessary columns from both train and test dataframes .\n",
    "\n",
    "train_df=train_df.drop(['registration_init_time','expiration_date','name','isrc'], axis=1)##\n",
    "test_df=test_df.drop(['registration_init_time','expiration_date','name','isrc','id'], axis=1)"
   ]
  },
  {
   "cell_type": "code",
   "execution_count": 34,
   "id": "ebc42e72",
   "metadata": {},
   "outputs": [
    {
     "name": "stdout",
     "output_type": "stream",
     "text": [
      "<class 'pandas.core.frame.DataFrame'>\n",
      "Int64Index: 3688709 entries, 0 to 3688708\n",
      "Data columns (total 23 columns):\n",
      " #   Column              Dtype  \n",
      "---  ------              -----  \n",
      " 0   msno                object \n",
      " 1   song_id             object \n",
      " 2   source_system_tab   object \n",
      " 3   source_screen_name  object \n",
      " 4   source_type         object \n",
      " 5   target              int64  \n",
      " 6   song_length         float64\n",
      " 7   genre_ids           object \n",
      " 8   artist_name         object \n",
      " 9   composer            object \n",
      " 10  lyricist            object \n",
      " 11  language            float64\n",
      " 12  city                int64  \n",
      " 13  bd                  int64  \n",
      " 14  gender              object \n",
      " 15  registered_via      int64  \n",
      " 16  registration_year   int64  \n",
      " 17  registration_month  int64  \n",
      " 18  registration_day    int64  \n",
      " 19  expiration_year     int64  \n",
      " 20  expiration_month    int64  \n",
      " 21  expiration_day      int64  \n",
      " 22  song_year           float64\n",
      "dtypes: float64(3), int64(10), object(10)\n",
      "memory usage: 675.4+ MB\n"
     ]
    }
   ],
   "source": [
    "### Viewing the columns information after modification .\n",
    "\n",
    "train_df.info()"
   ]
  },
  {
   "cell_type": "code",
   "execution_count": 35,
   "id": "36668691",
   "metadata": {},
   "outputs": [
    {
     "data": {
      "text/html": [
       "<style type=\"text/css\">\n",
       "#T_6dba6_row0_col1 {\n",
       "  background-color: #fff0a7;\n",
       "  color: #000000;\n",
       "}\n",
       "#T_6dba6_row0_col2, #T_6dba6_row0_col3, #T_6dba6_row11_col1 {\n",
       "  background-color: #800026;\n",
       "  color: #f1f1f1;\n",
       "}\n",
       "#T_6dba6_row1_col1, #T_6dba6_row3_col1, #T_6dba6_row4_col1, #T_6dba6_row5_col1, #T_6dba6_row6_col1, #T_6dba6_row7_col1, #T_6dba6_row8_col1, #T_6dba6_row8_col2, #T_6dba6_row8_col3, #T_6dba6_row9_col2, #T_6dba6_row9_col3, #T_6dba6_row10_col2, #T_6dba6_row10_col3, #T_6dba6_row11_col2, #T_6dba6_row11_col3, #T_6dba6_row12_col1, #T_6dba6_row12_col2, #T_6dba6_row12_col3, #T_6dba6_row13_col1, #T_6dba6_row13_col2, #T_6dba6_row13_col3, #T_6dba6_row14_col1, #T_6dba6_row14_col2, #T_6dba6_row14_col3, #T_6dba6_row15_col1, #T_6dba6_row15_col2, #T_6dba6_row15_col3, #T_6dba6_row16_col1, #T_6dba6_row16_col2, #T_6dba6_row16_col3, #T_6dba6_row17_col1, #T_6dba6_row17_col2, #T_6dba6_row17_col3, #T_6dba6_row18_col1, #T_6dba6_row18_col2, #T_6dba6_row18_col3, #T_6dba6_row19_col1, #T_6dba6_row19_col2, #T_6dba6_row19_col3, #T_6dba6_row20_col1, #T_6dba6_row20_col2, #T_6dba6_row20_col3, #T_6dba6_row21_col1, #T_6dba6_row21_col2, #T_6dba6_row21_col3, #T_6dba6_row22_col2, #T_6dba6_row22_col3 {\n",
       "  background-color: #ffffcc;\n",
       "  color: #000000;\n",
       "}\n",
       "#T_6dba6_row1_col2, #T_6dba6_row1_col3 {\n",
       "  background-color: #a10026;\n",
       "  color: #f1f1f1;\n",
       "}\n",
       "#T_6dba6_row2_col1 {\n",
       "  background-color: #fedd7e;\n",
       "  color: #000000;\n",
       "}\n",
       "#T_6dba6_row2_col2, #T_6dba6_row2_col3 {\n",
       "  background-color: #fd8038;\n",
       "  color: #f1f1f1;\n",
       "}\n",
       "#T_6dba6_row3_col2, #T_6dba6_row3_col3 {\n",
       "  background-color: #ffe48d;\n",
       "  color: #000000;\n",
       "}\n",
       "#T_6dba6_row4_col2, #T_6dba6_row4_col3 {\n",
       "  background-color: #ffec9f;\n",
       "  color: #000000;\n",
       "}\n",
       "#T_6dba6_row5_col2, #T_6dba6_row5_col3 {\n",
       "  background-color: #fffac0;\n",
       "  color: #000000;\n",
       "}\n",
       "#T_6dba6_row6_col2, #T_6dba6_row6_col3 {\n",
       "  background-color: #fffec9;\n",
       "  color: #000000;\n",
       "}\n",
       "#T_6dba6_row7_col2, #T_6dba6_row7_col3 {\n",
       "  background-color: #fffecb;\n",
       "  color: #000000;\n",
       "}\n",
       "#T_6dba6_row9_col1 {\n",
       "  background-color: #ffeda1;\n",
       "  color: #000000;\n",
       "}\n",
       "#T_6dba6_row10_col1 {\n",
       "  background-color: #fee289;\n",
       "  color: #000000;\n",
       "}\n",
       "#T_6dba6_row22_col1 {\n",
       "  background-color: #ffefa4;\n",
       "  color: #000000;\n",
       "}\n",
       "</style>\n",
       "<table id=\"T_6dba6_\">\n",
       "  <thead>\n",
       "    <tr>\n",
       "      <th class=\"blank level0\" >&nbsp;</th>\n",
       "      <th class=\"col_heading level0 col0\" >Data Type</th>\n",
       "      <th class=\"col_heading level0 col1\" >Unique Values</th>\n",
       "      <th class=\"col_heading level0 col2\" >Null Values</th>\n",
       "      <th class=\"col_heading level0 col3\" >% null Values</th>\n",
       "    </tr>\n",
       "  </thead>\n",
       "  <tbody>\n",
       "    <tr>\n",
       "      <th id=\"T_6dba6_level0_row0\" class=\"row_heading level0 row0\" >lyricist</th>\n",
       "      <td id=\"T_6dba6_row0_col0\" class=\"data row0 col0\" >object</td>\n",
       "      <td id=\"T_6dba6_row0_col1\" class=\"data row0 col1\" >27533</td>\n",
       "      <td id=\"T_6dba6_row0_col2\" class=\"data row0 col2\" >1589255</td>\n",
       "      <td id=\"T_6dba6_row0_col3\" class=\"data row0 col3\" >0.430843</td>\n",
       "    </tr>\n",
       "    <tr>\n",
       "      <th id=\"T_6dba6_level0_row1\" class=\"row_heading level0 row1\" >gender</th>\n",
       "      <td id=\"T_6dba6_row1_col0\" class=\"data row1 col0\" >object</td>\n",
       "      <td id=\"T_6dba6_row1_col1\" class=\"data row1 col1\" >2</td>\n",
       "      <td id=\"T_6dba6_row1_col2\" class=\"data row1 col2\" >1480979</td>\n",
       "      <td id=\"T_6dba6_row1_col3\" class=\"data row1 col3\" >0.401490</td>\n",
       "    </tr>\n",
       "    <tr>\n",
       "      <th id=\"T_6dba6_level0_row2\" class=\"row_heading level0 row2\" >composer</th>\n",
       "      <td id=\"T_6dba6_row2_col0\" class=\"data row2 col0\" >object</td>\n",
       "      <td id=\"T_6dba6_row2_col1\" class=\"data row2 col1\" >59415</td>\n",
       "      <td id=\"T_6dba6_row2_col2\" class=\"data row2 col2\" >836720</td>\n",
       "      <td id=\"T_6dba6_row2_col3\" class=\"data row2 col3\" >0.226833</td>\n",
       "    </tr>\n",
       "    <tr>\n",
       "      <th id=\"T_6dba6_level0_row3\" class=\"row_heading level0 row3\" >song_year</th>\n",
       "      <td id=\"T_6dba6_row3_col0\" class=\"data row3 col0\" >float64</td>\n",
       "      <td id=\"T_6dba6_row3_col1\" class=\"data row3 col1\" >99</td>\n",
       "      <td id=\"T_6dba6_row3_col2\" class=\"data row3 col2\" >288876</td>\n",
       "      <td id=\"T_6dba6_row3_col3\" class=\"data row3 col3\" >0.078314</td>\n",
       "    </tr>\n",
       "    <tr>\n",
       "      <th id=\"T_6dba6_level0_row4\" class=\"row_heading level0 row4\" >source_screen_name</th>\n",
       "      <td id=\"T_6dba6_row4_col0\" class=\"data row4 col0\" >object</td>\n",
       "      <td id=\"T_6dba6_row4_col1\" class=\"data row4 col1\" >20</td>\n",
       "      <td id=\"T_6dba6_row4_col2\" class=\"data row4 col2\" >207645</td>\n",
       "      <td id=\"T_6dba6_row4_col3\" class=\"data row4 col3\" >0.056292</td>\n",
       "    </tr>\n",
       "    <tr>\n",
       "      <th id=\"T_6dba6_level0_row5\" class=\"row_heading level0 row5\" >genre_ids</th>\n",
       "      <td id=\"T_6dba6_row5_col0\" class=\"data row5 col0\" >object</td>\n",
       "      <td id=\"T_6dba6_row5_col1\" class=\"data row5 col1\" >534</td>\n",
       "      <td id=\"T_6dba6_row5_col2\" class=\"data row5 col2\" >59145</td>\n",
       "      <td id=\"T_6dba6_row5_col3\" class=\"data row5 col3\" >0.016034</td>\n",
       "    </tr>\n",
       "    <tr>\n",
       "      <th id=\"T_6dba6_level0_row6\" class=\"row_heading level0 row6\" >source_system_tab</th>\n",
       "      <td id=\"T_6dba6_row6_col0\" class=\"data row6 col0\" >object</td>\n",
       "      <td id=\"T_6dba6_row6_col1\" class=\"data row6 col1\" >8</td>\n",
       "      <td id=\"T_6dba6_row6_col2\" class=\"data row6 col2\" >12421</td>\n",
       "      <td id=\"T_6dba6_row6_col3\" class=\"data row6 col3\" >0.003367</td>\n",
       "    </tr>\n",
       "    <tr>\n",
       "      <th id=\"T_6dba6_level0_row7\" class=\"row_heading level0 row7\" >source_type</th>\n",
       "      <td id=\"T_6dba6_row7_col0\" class=\"data row7 col0\" >object</td>\n",
       "      <td id=\"T_6dba6_row7_col1\" class=\"data row7 col1\" >12</td>\n",
       "      <td id=\"T_6dba6_row7_col2\" class=\"data row7 col2\" >10823</td>\n",
       "      <td id=\"T_6dba6_row7_col3\" class=\"data row7 col3\" >0.002934</td>\n",
       "    </tr>\n",
       "    <tr>\n",
       "      <th id=\"T_6dba6_level0_row8\" class=\"row_heading level0 row8\" >language</th>\n",
       "      <td id=\"T_6dba6_row8_col0\" class=\"data row8 col0\" >float64</td>\n",
       "      <td id=\"T_6dba6_row8_col1\" class=\"data row8 col1\" >10</td>\n",
       "      <td id=\"T_6dba6_row8_col2\" class=\"data row8 col2\" >79</td>\n",
       "      <td id=\"T_6dba6_row8_col3\" class=\"data row8 col3\" >0.000021</td>\n",
       "    </tr>\n",
       "    <tr>\n",
       "      <th id=\"T_6dba6_level0_row9\" class=\"row_heading level0 row9\" >artist_name</th>\n",
       "      <td id=\"T_6dba6_row9_col0\" class=\"data row9 col0\" >object</td>\n",
       "      <td id=\"T_6dba6_row9_col1\" class=\"data row9 col1\" >32224</td>\n",
       "      <td id=\"T_6dba6_row9_col2\" class=\"data row9 col2\" >55</td>\n",
       "      <td id=\"T_6dba6_row9_col3\" class=\"data row9 col3\" >0.000015</td>\n",
       "    </tr>\n",
       "    <tr>\n",
       "      <th id=\"T_6dba6_level0_row10\" class=\"row_heading level0 row10\" >song_length</th>\n",
       "      <td id=\"T_6dba6_row10_col0\" class=\"data row10 col0\" >float64</td>\n",
       "      <td id=\"T_6dba6_row10_col1\" class=\"data row10 col1\" >49708</td>\n",
       "      <td id=\"T_6dba6_row10_col2\" class=\"data row10 col2\" >55</td>\n",
       "      <td id=\"T_6dba6_row10_col3\" class=\"data row10 col3\" >0.000015</td>\n",
       "    </tr>\n",
       "    <tr>\n",
       "      <th id=\"T_6dba6_level0_row11\" class=\"row_heading level0 row11\" >song_id</th>\n",
       "      <td id=\"T_6dba6_row11_col0\" class=\"data row11 col0\" >object</td>\n",
       "      <td id=\"T_6dba6_row11_col1\" class=\"data row11 col1\" >259012</td>\n",
       "      <td id=\"T_6dba6_row11_col2\" class=\"data row11 col2\" >0</td>\n",
       "      <td id=\"T_6dba6_row11_col3\" class=\"data row11 col3\" >0.000000</td>\n",
       "    </tr>\n",
       "    <tr>\n",
       "      <th id=\"T_6dba6_level0_row12\" class=\"row_heading level0 row12\" >city</th>\n",
       "      <td id=\"T_6dba6_row12_col0\" class=\"data row12 col0\" >int64</td>\n",
       "      <td id=\"T_6dba6_row12_col1\" class=\"data row12 col1\" >21</td>\n",
       "      <td id=\"T_6dba6_row12_col2\" class=\"data row12 col2\" >0</td>\n",
       "      <td id=\"T_6dba6_row12_col3\" class=\"data row12 col3\" >0.000000</td>\n",
       "    </tr>\n",
       "    <tr>\n",
       "      <th id=\"T_6dba6_level0_row13\" class=\"row_heading level0 row13\" >bd</th>\n",
       "      <td id=\"T_6dba6_row13_col0\" class=\"data row13 col0\" >int64</td>\n",
       "      <td id=\"T_6dba6_row13_col1\" class=\"data row13 col1\" >92</td>\n",
       "      <td id=\"T_6dba6_row13_col2\" class=\"data row13 col2\" >0</td>\n",
       "      <td id=\"T_6dba6_row13_col3\" class=\"data row13 col3\" >0.000000</td>\n",
       "    </tr>\n",
       "    <tr>\n",
       "      <th id=\"T_6dba6_level0_row14\" class=\"row_heading level0 row14\" >target</th>\n",
       "      <td id=\"T_6dba6_row14_col0\" class=\"data row14 col0\" >int64</td>\n",
       "      <td id=\"T_6dba6_row14_col1\" class=\"data row14 col1\" >2</td>\n",
       "      <td id=\"T_6dba6_row14_col2\" class=\"data row14 col2\" >0</td>\n",
       "      <td id=\"T_6dba6_row14_col3\" class=\"data row14 col3\" >0.000000</td>\n",
       "    </tr>\n",
       "    <tr>\n",
       "      <th id=\"T_6dba6_level0_row15\" class=\"row_heading level0 row15\" >registered_via</th>\n",
       "      <td id=\"T_6dba6_row15_col0\" class=\"data row15 col0\" >int64</td>\n",
       "      <td id=\"T_6dba6_row15_col1\" class=\"data row15 col1\" >5</td>\n",
       "      <td id=\"T_6dba6_row15_col2\" class=\"data row15 col2\" >0</td>\n",
       "      <td id=\"T_6dba6_row15_col3\" class=\"data row15 col3\" >0.000000</td>\n",
       "    </tr>\n",
       "    <tr>\n",
       "      <th id=\"T_6dba6_level0_row16\" class=\"row_heading level0 row16\" >registration_year</th>\n",
       "      <td id=\"T_6dba6_row16_col0\" class=\"data row16 col0\" >int64</td>\n",
       "      <td id=\"T_6dba6_row16_col1\" class=\"data row16 col1\" >14</td>\n",
       "      <td id=\"T_6dba6_row16_col2\" class=\"data row16 col2\" >0</td>\n",
       "      <td id=\"T_6dba6_row16_col3\" class=\"data row16 col3\" >0.000000</td>\n",
       "    </tr>\n",
       "    <tr>\n",
       "      <th id=\"T_6dba6_level0_row17\" class=\"row_heading level0 row17\" >registration_month</th>\n",
       "      <td id=\"T_6dba6_row17_col0\" class=\"data row17 col0\" >int64</td>\n",
       "      <td id=\"T_6dba6_row17_col1\" class=\"data row17 col1\" >12</td>\n",
       "      <td id=\"T_6dba6_row17_col2\" class=\"data row17 col2\" >0</td>\n",
       "      <td id=\"T_6dba6_row17_col3\" class=\"data row17 col3\" >0.000000</td>\n",
       "    </tr>\n",
       "    <tr>\n",
       "      <th id=\"T_6dba6_level0_row18\" class=\"row_heading level0 row18\" >registration_day</th>\n",
       "      <td id=\"T_6dba6_row18_col0\" class=\"data row18 col0\" >int64</td>\n",
       "      <td id=\"T_6dba6_row18_col1\" class=\"data row18 col1\" >31</td>\n",
       "      <td id=\"T_6dba6_row18_col2\" class=\"data row18 col2\" >0</td>\n",
       "      <td id=\"T_6dba6_row18_col3\" class=\"data row18 col3\" >0.000000</td>\n",
       "    </tr>\n",
       "    <tr>\n",
       "      <th id=\"T_6dba6_level0_row19\" class=\"row_heading level0 row19\" >expiration_year</th>\n",
       "      <td id=\"T_6dba6_row19_col0\" class=\"data row19 col0\" >int64</td>\n",
       "      <td id=\"T_6dba6_row19_col1\" class=\"data row19 col1\" >18</td>\n",
       "      <td id=\"T_6dba6_row19_col2\" class=\"data row19 col2\" >0</td>\n",
       "      <td id=\"T_6dba6_row19_col3\" class=\"data row19 col3\" >0.000000</td>\n",
       "    </tr>\n",
       "    <tr>\n",
       "      <th id=\"T_6dba6_level0_row20\" class=\"row_heading level0 row20\" >expiration_month</th>\n",
       "      <td id=\"T_6dba6_row20_col0\" class=\"data row20 col0\" >int64</td>\n",
       "      <td id=\"T_6dba6_row20_col1\" class=\"data row20 col1\" >12</td>\n",
       "      <td id=\"T_6dba6_row20_col2\" class=\"data row20 col2\" >0</td>\n",
       "      <td id=\"T_6dba6_row20_col3\" class=\"data row20 col3\" >0.000000</td>\n",
       "    </tr>\n",
       "    <tr>\n",
       "      <th id=\"T_6dba6_level0_row21\" class=\"row_heading level0 row21\" >expiration_day</th>\n",
       "      <td id=\"T_6dba6_row21_col0\" class=\"data row21 col0\" >int64</td>\n",
       "      <td id=\"T_6dba6_row21_col1\" class=\"data row21 col1\" >31</td>\n",
       "      <td id=\"T_6dba6_row21_col2\" class=\"data row21 col2\" >0</td>\n",
       "      <td id=\"T_6dba6_row21_col3\" class=\"data row21 col3\" >0.000000</td>\n",
       "    </tr>\n",
       "    <tr>\n",
       "      <th id=\"T_6dba6_level0_row22\" class=\"row_heading level0 row22\" >msno</th>\n",
       "      <td id=\"T_6dba6_row22_col0\" class=\"data row22 col0\" >object</td>\n",
       "      <td id=\"T_6dba6_row22_col1\" class=\"data row22 col1\" >29999</td>\n",
       "      <td id=\"T_6dba6_row22_col2\" class=\"data row22 col2\" >0</td>\n",
       "      <td id=\"T_6dba6_row22_col3\" class=\"data row22 col3\" >0.000000</td>\n",
       "    </tr>\n",
       "  </tbody>\n",
       "</table>\n"
      ],
      "text/plain": [
       "<pandas.io.formats.style.Styler at 0x15180974700>"
      ]
     },
     "execution_count": 35,
     "metadata": {},
     "output_type": "execute_result"
    }
   ],
   "source": [
    "#### Detecting the Null Values and vizualising the count of them .\n",
    "\n",
    "\n",
    "dtypes = pd.DataFrame(train_df.dtypes,columns=[\"Data Type\"])\n",
    "\n",
    "dtypes[\"Unique Values\"]=train_df.nunique().sort_values(ascending=True)\n",
    "\n",
    "dtypes[\"Null Values\"]=train_df.isnull().sum()\n",
    "\n",
    "dtypes[\"% null Values\"]=train_df.isnull().sum()/len(train_df)\n",
    "\n",
    "\n",
    "\n",
    "dtypes.sort_values(by=\"Null Values\" , ascending=False).style.background_gradient(cmap='YlOrRd',axis=0)"
   ]
  },
  {
   "cell_type": "code",
   "execution_count": 36,
   "id": "3b401a0c",
   "metadata": {},
   "outputs": [
    {
     "data": {
      "image/png": "[encoded data removed]",
      "text/plain": [
       "<Figure size 1800x720 with 1 Axes>"
      ]
     },
     "metadata": {
      "needs_background": "light"
     },
     "output_type": "display_data"
    }
   ],
   "source": [
    "### Viewing the null values in the form of a heatmap\n",
    "\n",
    "\n",
    "plt.figure(figsize=(25,10))\n",
    "\n",
    "sns.heatmap(train_df.isnull(),cbar=False,cmap='viridis')\n",
    "plt.tick_params(axis='x', labelsize=25)"
   ]
  },
  {
   "cell_type": "code",
   "execution_count": 37,
   "id": "9cf9ea8e",
   "metadata": {},
   "outputs": [
    {
     "data": {
      "text/plain": [
       "Text(0.5, 1.0, 'Target Distribution')"
      ]
     },
     "execution_count": 37,
     "metadata": {},
     "output_type": "execute_result"
    },
    {
     "data": {
      "image/png": "[encoded data removed]",
      "text/plain": [
       "<Figure size 504x504 with 1 Axes>"
      ]
     },
     "metadata": {
      "needs_background": "light"
     },
     "output_type": "display_data"
    }
   ],
   "source": [
    "### Visualing the balance of the target variable .\n",
    "\n",
    "plt.figure(figsize=(7,7))\n",
    "\n",
    "\n",
    "ax = sns.countplot(x='target',data=train_df)\n",
    "ax.set_title('Target Distribution')"
   ]
  },
  {
   "cell_type": "code",
   "execution_count": 38,
   "id": "e28931e4",
   "metadata": {},
   "outputs": [],
   "source": [
    "## Replaicng the null values appropriately from train .\n",
    "\n",
    "\n",
    "## String Null 'Unknown'\n",
    "for col in train_df.select_dtypes(include=['object']).columns:\n",
    "    train_df[col] = train_df[col].fillna(value = \"unknown\")\n",
    "    \n",
    "# Numerics Null mean    \n",
    "for col in train_df.select_dtypes(exclude=['object']).columns:\n",
    "    train_df[col] = train_df[col].fillna(value = train_df[col].mean())\n",
    "    \n"
   ]
  },
  {
   "cell_type": "code",
   "execution_count": 39,
   "id": "89cadd0d",
   "metadata": {},
   "outputs": [],
   "source": [
    "## Replacing the null values appropriately from test .\n",
    "\n",
    "# String Nul 'Unknown'\n",
    "for col in test_df.select_dtypes(include=['object']).columns:\n",
    "    test_df[col] = test_df[col].fillna(value = \"unknown\")\n",
    "    \n",
    "# Numerics Null mean    \n",
    "for col in test_df.select_dtypes(exclude=['object']).columns:\n",
    "    test_df[col] = test_df[col].fillna(value = test_df[col].mean())"
   ]
  },
  {
   "cell_type": "code",
   "execution_count": 40,
   "id": "c562d990",
   "metadata": {},
   "outputs": [
    {
     "data": {
      "image/png": "[encoded data removed]",
      "text/plain": [
       "<Figure size 1440x720 with 2 Axes>"
      ]
     },
     "metadata": {
      "needs_background": "light"
     },
     "output_type": "display_data"
    }
   ],
   "source": [
    "###  Viewing the Сorrelation among the variables in form of co-relation Matrix .\n",
    "\n",
    "plt.figure(figsize=[20,10])\n",
    "sns.heatmap(train_df.corr(), annot=True)\n",
    "plt.show()"
   ]
  },
  {
   "cell_type": "code",
   "execution_count": 41,
   "id": "d9b8d0fd",
   "metadata": {},
   "outputs": [],
   "source": [
    "### treating the outliers of bd variable .\n",
    "\n",
    "train_df['bd'] = train_df['bd'].apply(lambda x : 0 if x > 100 else abs(x))\n",
    "test_df['bd'] = test_df['bd'].apply(lambda x : 0 if x > 100 else abs(x))"
   ]
  },
  {
   "cell_type": "code",
   "execution_count": 42,
   "id": "262be41c",
   "metadata": {},
   "outputs": [
    {
     "data": {
      "text/plain": [
       "<Axes: >"
      ]
     },
     "execution_count": 42,
     "metadata": {},
     "output_type": "execute_result"
    },
    {
     "data": {
      "image/png": "[encoded data removed]",
      "text/plain": [
       "<Figure size 720x360 with 2 Axes>"
      ]
     },
     "metadata": {
      "needs_background": "light"
     },
     "output_type": "display_data"
    }
   ],
   "source": [
    "### Checking for outliers .\n",
    "\n",
    "cols = train_df.select_dtypes(exclude=['object']).columns\n",
    "plt.figure(figsize=(10,5))\n",
    "plt.subplot(1,2,1)\n",
    "sns.boxplot(data=train_df[['song_length']])\n",
    "plt.subplot(1,2,2)\n",
    "sns.boxplot(data=test_df[['song_length']])"
   ]
  },
  {
   "cell_type": "code",
   "execution_count": 43,
   "id": "4f238e8a",
   "metadata": {},
   "outputs": [],
   "source": [
    "### Defining a function that returns a lower and upper bounds . \n",
    "\n",
    "def cal_bounds(listbound):\n",
    "    q1, q3= np.percentile(listbound,[25,75])\n",
    "    iqr = q3 - q1\n",
    "    upper = q3+(1.5 * iqr)\n",
    "    lower = q1-(1.5*iqr)\n",
    "   ## print(lower,upper)\n",
    "    return lower,upper "
   ]
  },
  {
   "cell_type": "code",
   "execution_count": 44,
   "id": "d91d7f54",
   "metadata": {},
   "outputs": [
    {
     "name": "stdout",
     "output_type": "stream",
     "text": [
      "128575.0 358311.0\n",
      "127501.5 356169.5\n"
     ]
    }
   ],
   "source": [
    "### Replacing the outliers with inner bound and outer bound\n",
    "\n",
    "lower,upper = cal_bounds(train_df['song_length'])\n",
    "print(lower,upper)\n",
    "\n",
    "train_df.loc[train_df['song_length']>upper,'song_length'] = upper\n",
    "train_df.loc[train_df['song_length']<lower,'song_length'] = lower\n",
    "\n",
    "lower,upper = cal_bounds(test_df['song_length'])\n",
    "print(lower,upper)\n",
    "\n",
    "test_df.loc[test_df['song_length']>upper,'song_length'] = upper\n",
    "test_df.loc[test_df['song_length']<lower,'song_length'] = lower\n"
   ]
  },
  {
   "cell_type": "code",
   "execution_count": 45,
   "id": "d766665c",
   "metadata": {},
   "outputs": [
    {
     "data": {
      "text/plain": [
       "<Axes: >"
      ]
     },
     "execution_count": 45,
     "metadata": {},
     "output_type": "execute_result"
    },
    {
     "data": {
      "image/png": "[encoded data removed]",
      "text/plain": [
       "<Figure size 720x360 with 2 Axes>"
      ]
     },
     "metadata": {
      "needs_background": "light"
     },
     "output_type": "display_data"
    }
   ],
   "source": [
    "### Viewing the columns data after fixing the outliers .\n",
    "\n",
    "plt.figure(figsize=(10,5))\n",
    "plt.subplot(1,2,1)\n",
    "sns.boxplot(data=train_df[['song_length']])\n",
    "plt.subplot(1,2,2)\n",
    "sns.boxplot(data=test_df[['song_length']])"
   ]
  },
  {
   "cell_type": "code",
   "execution_count": 46,
   "id": "456c64fe",
   "metadata": {},
   "outputs": [],
   "source": [
    "#### Label Encoding all the categorical columns of both train and test dataset . \n",
    "\n",
    "label_encoder = LabelEncoder()\n",
    "for i in train_df.columns:\n",
    "    if train_df[i].dtype == 'object':\n",
    "        train_df[i] = label_encoder.fit_transform(train_df[i])\n",
    "    \n",
    "for i in test_df.columns:\n",
    "    if test_df[i].dtype == 'object':\n",
    "        test_df[i] = label_encoder.fit_transform(test_df[i])"
   ]
  },
  {
   "cell_type": "code",
   "execution_count": 47,
   "id": "3b19e694",
   "metadata": {},
   "outputs": [
    {
     "name": "stdout",
     "output_type": "stream",
     "text": [
      "(2950967, 22)\n",
      "(737742, 22)\n",
      "(2950967,)\n",
      "(737742,)\n"
     ]
    }
   ],
   "source": [
    "### Splitting the data into features and target and furthur into train and validation Data .\n",
    "\n",
    "Y_target = train_df['target']\n",
    "X_features =  train_df.drop(['target'], axis = 1)\n",
    "X_train, X_val, Y_train, Y_val = train_test_split(X_features , Y_target, random_state=10,test_size=0.2)\n",
    "\n",
    "print(X_train.shape)\n",
    "print(X_val.shape)\n",
    "print(Y_train.shape)\n",
    "print(Y_val.shape)"
   ]
  },
  {
   "cell_type": "code",
   "execution_count": 48,
   "id": "191e6538",
   "metadata": {},
   "outputs": [],
   "source": [
    "### Normalizing the data using Standard Scalar .\n",
    "\n",
    "SS = StandardScaler()\n",
    "X_train = SS.fit_transform(X_train)\n",
    "X_val   = SS.fit_transform(X_val)"
   ]
  },
  {
   "cell_type": "code",
   "execution_count": 49,
   "id": "e51f7ba9",
   "metadata": {},
   "outputs": [
    {
     "name": "stderr",
     "output_type": "stream",
     "text": [
      "[Parallel(n_jobs=-1)]: Using backend ThreadingBackend with 8 concurrent workers.\n"
     ]
    },
    {
     "name": "stdout",
     "output_type": "stream",
     "text": [
      "building tree 1 of 100building tree 2 of 100building tree 3 of 100\n",
      "\n",
      "building tree 4 of 100\n",
      "building tree 5 of 100\n",
      "building tree 6 of 100\n",
      "\n",
      "building tree 7 of 100\n",
      "building tree 8 of 100\n",
      "building tree 9 of 100\n",
      "building tree 10 of 100\n",
      "building tree 11 of 100\n",
      "building tree 12 of 100\n",
      "building tree 13 of 100\n",
      "building tree 14 of 100\n",
      "building tree 15 of 100\n",
      "building tree 16 of 100\n",
      "building tree 17 of 100\n",
      "building tree 18 of 100\n",
      "building tree 19 of 100\n",
      "building tree 20 of 100\n",
      "building tree 21 of 100\n",
      "building tree 22 of 100building tree 23 of 100\n",
      "\n",
      "building tree 24 of 100\n"
     ]
    },
    {
     "name": "stderr",
     "output_type": "stream",
     "text": [
      "[Parallel(n_jobs=-1)]: Done  16 tasks      | elapsed:   18.4s\n"
     ]
    },
    {
     "name": "stdout",
     "output_type": "stream",
     "text": [
      "building tree 25 of 100\n",
      "building tree 26 of 100\n",
      "building tree 27 of 100\n",
      "building tree 28 of 100\n",
      "building tree 29 of 100\n",
      "building tree 30 of 100\n",
      "building tree 31 of 100\n",
      "building tree 32 of 100\n",
      "building tree 33 of 100\n",
      "building tree 34 of 100building tree 35 of 100\n",
      "\n",
      "building tree 36 of 100\n",
      "building tree 37 of 100\n",
      "building tree 38 of 100\n",
      "building tree 39 of 100\n",
      "building tree 40 of 100\n",
      "building tree 41 of 100\n",
      "building tree 42 of 100\n",
      "building tree 43 of 100\n",
      "building tree 44 of 100\n",
      "building tree 45 of 100\n",
      "building tree 46 of 100\n",
      "building tree 47 of 100\n",
      "building tree 48 of 100\n",
      "building tree 49 of 100\n",
      "building tree 50 of 100\n",
      "building tree 51 of 100\n",
      "building tree 52 of 100\n",
      "building tree 53 of 100\n",
      "building tree 54 of 100\n",
      "building tree 55 of 100\n",
      "building tree 56 of 100\n",
      "building tree 57 of 100\n",
      "building tree 58 of 100\n",
      "building tree 59 of 100\n",
      "building tree 60 of 100\n",
      "building tree 61 of 100\n",
      "building tree 62 of 100\n",
      "building tree 63 of 100\n",
      "building tree 64 of 100\n",
      "building tree 65 of 100\n",
      "building tree 66 of 100\n",
      "building tree 67 of 100\n",
      "building tree 68 of 100\n",
      "building tree 69 of 100\n",
      "building tree 70 of 100\n",
      "building tree 71 of 100\n",
      "building tree 72 of 100\n",
      "building tree 73 of 100\n",
      "building tree 74 of 100\n",
      "building tree 75 of 100\n",
      "building tree 76 of 100\n",
      "building tree 77 of 100\n",
      "building tree 78 of 100\n",
      "building tree 79 of 100\n",
      "building tree 80 of 100\n",
      "building tree 81 of 100\n",
      "building tree 82 of 100\n",
      "building tree 83 of 100\n",
      "building tree 84 of 100\n",
      "building tree 85 of 100\n",
      "building tree 86 of 100\n",
      "building tree 87 of 100\n",
      "building tree 88 of 100\n",
      "building tree 89 of 100\n",
      "building tree 90 of 100\n",
      "building tree 91 of 100\n",
      "building tree 92 of 100\n",
      "building tree 93 of 100\n",
      "building tree 94 of 100\n",
      "building tree 95 of 100\n",
      "building tree 96 of 100\n",
      "building tree 97 of 100\n",
      "building tree 98 of 100\n",
      "building tree 99 of 100\n",
      "building tree 100 of 100\n"
     ]
    },
    {
     "name": "stderr",
     "output_type": "stream",
     "text": [
      "[Parallel(n_jobs=-1)]: Done 100 out of 100 | elapsed:  1.7min finished\n"
     ]
    },
    {
     "data": {
      "text/html": [
       "<style>#sk-container-id-1 {color: black;background-color: white;}#sk-container-id-1 pre{padding: 0;}#sk-container-id-1 div.sk-toggleable {background-color: white;}#sk-container-id-1 label.sk-toggleable__label {cursor: pointer;display: block;width: 100%;margin-bottom: 0;padding: 0.3em;box-sizing: border-box;text-align: center;}#sk-container-id-1 label.sk-toggleable__label-arrow:before {content: \"▸\";float: left;margin-right: 0.25em;color: #696969;}#sk-container-id-1 label.sk-toggleable__label-arrow:hover:before {color: black;}#sk-container-id-1 div.sk-estimator:hover label.sk-toggleable__label-arrow:before {color: black;}#sk-container-id-1 div.sk-toggleable__content {max-height: 0;max-width: 0;overflow: hidden;text-align: left;background-color: #f0f8ff;}#sk-container-id-1 div.sk-toggleable__content pre {margin: 0.2em;color: black;border-radius: 0.25em;background-color: #f0f8ff;}#sk-container-id-1 input.sk-toggleable__control:checked~div.sk-toggleable__content {max-height: 200px;max-width: 100%;overflow: auto;}#sk-container-id-1 input.sk-toggleable__control:checked~label.sk-toggleable__label-arrow:before {content: \"▾\";}#sk-container-id-1 div.sk-estimator input.sk-toggleable__control:checked~label.sk-toggleable__label {background-color: #d4ebff;}#sk-container-id-1 div.sk-label input.sk-toggleable__control:checked~label.sk-toggleable__label {background-color: #d4ebff;}#sk-container-id-1 input.sk-hidden--visually {border: 0;clip: rect(1px 1px 1px 1px);clip: rect(1px, 1px, 1px, 1px);height: 1px;margin: -1px;overflow: hidden;padding: 0;position: absolute;width: 1px;}#sk-container-id-1 div.sk-estimator {font-family: monospace;background-color: #f0f8ff;border: 1px dotted black;border-radius: 0.25em;box-sizing: border-box;margin-bottom: 0.5em;}#sk-container-id-1 div.sk-estimator:hover {background-color: #d4ebff;}#sk-container-id-1 div.sk-parallel-item::after {content: \"\";width: 100%;border-bottom: 1px solid gray;flex-grow: 1;}#sk-container-id-1 div.sk-label:hover label.sk-toggleable__label {background-color: #d4ebff;}#sk-container-id-1 div.sk-serial::before {content: \"\";position: absolute;border-left: 1px solid gray;box-sizing: border-box;top: 0;bottom: 0;left: 50%;z-index: 0;}#sk-container-id-1 div.sk-serial {display: flex;flex-direction: column;align-items: center;background-color: white;padding-right: 0.2em;padding-left: 0.2em;position: relative;}#sk-container-id-1 div.sk-item {position: relative;z-index: 1;}#sk-container-id-1 div.sk-parallel {display: flex;align-items: stretch;justify-content: center;background-color: white;position: relative;}#sk-container-id-1 div.sk-item::before, #sk-container-id-1 div.sk-parallel-item::before {content: \"\";position: absolute;border-left: 1px solid gray;box-sizing: border-box;top: 0;bottom: 0;left: 50%;z-index: -1;}#sk-container-id-1 div.sk-parallel-item {display: flex;flex-direction: column;z-index: 1;position: relative;background-color: white;}#sk-container-id-1 div.sk-parallel-item:first-child::after {align-self: flex-end;width: 50%;}#sk-container-id-1 div.sk-parallel-item:last-child::after {align-self: flex-start;width: 50%;}#sk-container-id-1 div.sk-parallel-item:only-child::after {width: 0;}#sk-container-id-1 div.sk-dashed-wrapped {border: 1px dashed gray;margin: 0 0.4em 0.5em 0.4em;box-sizing: border-box;padding-bottom: 0.4em;background-color: white;}#sk-container-id-1 div.sk-label label {font-family: monospace;font-weight: bold;display: inline-block;line-height: 1.2em;}#sk-container-id-1 div.sk-label-container {text-align: center;}#sk-container-id-1 div.sk-container {/* jupyter's `normalize.less` sets `[hidden] { display: none; }` but bootstrap.min.css set `[hidden] { display: none !important; }` so we also need the `!important` here to be able to override the default hidden behavior on the sphinx rendered scikit-learn.org. See: https://github.com/scikit-learn/scikit-learn/issues/21755 */display: inline-block !important;position: relative;}#sk-container-id-1 div.sk-text-repr-fallback {display: none;}</style><div id=\"sk-container-id-1\" class=\"sk-top-container\"><div class=\"sk-text-repr-fallback\"><pre>RandomForestClassifier(max_depth=2, n_jobs=-1, verbose=3)</pre><b>In a Jupyter environment, please rerun this cell to show the HTML representation or trust the notebook. <br />On GitHub, the HTML representation is unable to render, please try loading this page with nbviewer.org.</b></div><div class=\"sk-container\" hidden><div class=\"sk-item\"><div class=\"sk-estimator sk-toggleable\"><input class=\"sk-toggleable__control sk-hidden--visually\" id=\"sk-estimator-id-1\" type=\"checkbox\" checked><label for=\"sk-estimator-id-1\" class=\"sk-toggleable__label sk-toggleable__label-arrow\">RandomForestClassifier</label><div class=\"sk-toggleable__content\"><pre>RandomForestClassifier(max_depth=2, n_jobs=-1, verbose=3)</pre></div></div></div></div></div>"
      ],
      "text/plain": [
       "RandomForestClassifier(max_depth=2, n_jobs=-1, verbose=3)"
      ]
     },
     "execution_count": 49,
     "metadata": {},
     "output_type": "execute_result"
    }
   ],
   "source": [
    "# Model with the best estimator\n",
    "\n",
    "RF = RandomForestClassifier(n_estimators = 100,verbose=3,n_jobs=-1,max_depth=2)\n",
    "RF.fit(X_train, Y_train)"
   ]
  },
  {
   "cell_type": "code",
   "execution_count": 50,
   "id": "51ded2e9",
   "metadata": {},
   "outputs": [
    {
     "name": "stderr",
     "output_type": "stream",
     "text": [
      "[Parallel(n_jobs=8)]: Using backend ThreadingBackend with 8 concurrent workers.\n",
      "[Parallel(n_jobs=8)]: Done  16 tasks      | elapsed:    1.2s\n",
      "[Parallel(n_jobs=8)]: Done 100 out of 100 | elapsed:    7.4s finished\n"
     ]
    },
    {
     "name": "stdout",
     "output_type": "stream",
     "text": [
      "Accutracy Score for Train Data :  0.609682182145717\n"
     ]
    }
   ],
   "source": [
    "### Accuracy_score on Train data .\n",
    "\n",
    "RF_TrainScore = RF.score(X_train, Y_train)\n",
    "print(\"Accutracy Score for Train Data : \",RF_TrainScore)"
   ]
  },
  {
   "cell_type": "code",
   "execution_count": 51,
   "id": "36fa1803",
   "metadata": {},
   "outputs": [
    {
     "name": "stderr",
     "output_type": "stream",
     "text": [
      "[Parallel(n_jobs=8)]: Using backend ThreadingBackend with 8 concurrent workers.\n",
      "[Parallel(n_jobs=8)]: Done  16 tasks      | elapsed:    0.2s\n",
      "[Parallel(n_jobs=8)]: Done 100 out of 100 | elapsed:    1.8s finished\n"
     ]
    }
   ],
   "source": [
    "### Predicting the target variable for Validation Data. \n",
    "\n",
    "Y_pred= RF.predict(X_val)"
   ]
  },
  {
   "cell_type": "code",
   "execution_count": 52,
   "id": "33fc6d6a",
   "metadata": {},
   "outputs": [
    {
     "name": "stderr",
     "output_type": "stream",
     "text": [
      "[Parallel(n_jobs=8)]: Using backend ThreadingBackend with 8 concurrent workers.\n",
      "[Parallel(n_jobs=8)]: Done  16 tasks      | elapsed:    0.3s\n",
      "[Parallel(n_jobs=8)]: Done 100 out of 100 | elapsed:    2.0s finished\n"
     ]
    },
    {
     "name": "stdout",
     "output_type": "stream",
     "text": [
      "Accuracy Score for Validation Data :  1.0\n"
     ]
    }
   ],
   "source": [
    "### Accuracy Score for Validation Data .\n",
    "\n",
    "print(\"Accuracy Score for Validation Data : \",RF.score(X_val, Y_pred))"
   ]
  },
  {
   "cell_type": "code",
   "execution_count": 53,
   "id": "0c396bd5",
   "metadata": {},
   "outputs": [
    {
     "name": "stderr",
     "output_type": "stream",
     "text": [
      "[Parallel(n_jobs=8)]: Using backend ThreadingBackend with 8 concurrent workers.\n",
      "[Parallel(n_jobs=8)]: Done  16 tasks      | elapsed:    1.0s\n",
      "[Parallel(n_jobs=8)]: Done 100 out of 100 | elapsed:    6.0s finished\n"
     ]
    }
   ],
   "source": [
    "###  Predicitng the target variable for Test Data .\n",
    "\n",
    "Y_test_pred = RF.predict(test_df)"
   ]
  },
  {
   "cell_type": "code",
   "execution_count": 54,
   "id": "ddd38544",
   "metadata": {},
   "outputs": [
    {
     "name": "stderr",
     "output_type": "stream",
     "text": [
      "[Parallel(n_jobs=8)]: Using backend ThreadingBackend with 8 concurrent workers.\n",
      "[Parallel(n_jobs=8)]: Done  16 tasks      | elapsed:    1.0s\n",
      "[Parallel(n_jobs=8)]: Done 100 out of 100 | elapsed:    5.8s finished\n"
     ]
    },
    {
     "name": "stdout",
     "output_type": "stream",
     "text": [
      "Accuracy Score for Test Data 1.0\n"
     ]
    }
   ],
   "source": [
    "### Accuracy Score for Test Data . \n",
    "\n",
    "print(\"Accuracy Score for Test Data\",RF.score(test_df,Y_test_pred))"
   ]
  },
  {
   "cell_type": "code",
   "execution_count": 55,
   "id": "9403a714",
   "metadata": {},
   "outputs": [
    {
     "name": "stdout",
     "output_type": "stream",
     "text": [
      "              precision    recall  f1-score   support\n",
      "\n",
      "           0       0.59      0.61      0.60    356245\n",
      "           1       0.63      0.61      0.62    381497\n",
      "\n",
      "    accuracy                           0.61    737742\n",
      "   macro avg       0.61      0.61      0.61    737742\n",
      "weighted avg       0.61      0.61      0.61    737742\n",
      "\n"
     ]
    }
   ],
   "source": [
    "### Classification Report\n",
    "\n",
    "print(classification_report(Y_pred, Y_val))"
   ]
  },
  {
   "cell_type": "code",
   "execution_count": 56,
   "id": "e7c0ca49",
   "metadata": {},
   "outputs": [
    {
     "name": "stdout",
     "output_type": "stream",
     "text": [
      "[[217557 138688]\n",
      " [148484 233013]]\n"
     ]
    }
   ],
   "source": [
    "### Confusion Matrix \n",
    "\n",
    "cm = confusion_matrix(Y_pred, Y_val)\n",
    "print(cm)"
   ]
  },
  {
   "cell_type": "code",
   "execution_count": 59,
   "id": "12c349ce",
   "metadata": {},
   "outputs": [],
   "source": [
    "### Accuracy Score \n",
    "\n",
    "auc=accuracy_score(Y_pred, Y_val)"
   ]
  },
  {
   "cell_type": "code",
   "execution_count": 57,
   "id": "d26b74e3",
   "metadata": {},
   "outputs": [
    {
     "data": {
      "image/png": "[encoded data removed]",
      "text/plain": [
       "<Figure size 720x576 with 2 Axes>"
      ]
     },
     "metadata": {
      "needs_background": "light"
     },
     "output_type": "display_data"
    }
   ],
   "source": [
    "### Visualizing the confusion Matrix using Heat Map\n",
    "\n",
    "plt.figure(figsize = (10,8))\n",
    "sns.heatmap(cm, annot = True, xticklabels = Y_val.unique(), yticklabels = Y_val.unique())\n",
    "plt.xlabel('Predicted Labels')\n",
    "plt.ylabel('True Labels')\n",
    "plt.show()"
   ]
  },
  {
   "cell_type": "code",
   "execution_count": 60,
   "id": "a9907e99",
   "metadata": {},
   "outputs": [
    {
     "data": {
      "text/plain": [
       "Text(0.95, 0.05, 'AUC = 0.6107')"
      ]
     },
     "execution_count": 60,
     "metadata": {},
     "output_type": "execute_result"
    },
    {
     "data": {
      "image/png": "[encoded data removed]",
      "text/plain": [
       "<Figure size 432x288 with 1 Axes>"
      ]
     },
     "metadata": {
      "needs_background": "light"
     },
     "output_type": "display_data"
    }
   ],
   "source": [
    "#### Visualizing the AUC_ROC Curve . \n",
    "\n",
    "plt.title(\"AUC_ROC_CURVE\")\n",
    "fpr, tpr, thresholds = roc_curve(Y_val, Y_pred)\n",
    "plt.plot(fpr, tpr)\n",
    "plt.fill_between(fpr, tpr, facecolor='lightblue', alpha=0.7)\n",
    "plt.xlabel('False Positive Rate')\n",
    "plt.ylabel('True Positive Rate')\n",
    "plt.text(0.95, 0.05, 'AUC = %0.4f' % auc, ha='right', fontsize=12, color='green')"
   ]
  },
  {
   "cell_type": "code",
   "execution_count": null,
   "id": "1420feb1",
   "metadata": {},
   "outputs": [],
   "source": []
  }
 ],
 "metadata": {
  "kernelspec": {
   "display_name": "Python 3 (ipykernel)",
   "language": "python",
   "name": "python3"
  },
  "language_info": {
   "codemirror_mode": {
    "name": "ipython",
    "version": 3
   },
   "file_extension": ".py",
   "mimetype": "text/x-python",
   "name": "python",
   "nbconvert_exporter": "python",
   "pygments_lexer": "ipython3",
   "version": "3.9.7"
  }
 },
 "nbformat": 4,
 "nbformat_minor": 5
}
